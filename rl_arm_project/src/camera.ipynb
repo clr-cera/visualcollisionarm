{
 "cells": [
  {
   "cell_type": "code",
   "execution_count": 233,
   "metadata": {},
   "outputs": [],
   "source": [
    "import PySpin\n",
    "import matplotlib.pyplot as plt\n",
    "import cv2\n",
    "import numpy as np"
   ]
  },
  {
   "cell_type": "markdown",
   "metadata": {},
   "source": [
    "### Configurar Câmera\n",
    "Primeiro se configura a câmera utilizando do PySpin, depois deste bloco o objeto em cam está configurado e com método para capturar imagens"
   ]
  },
  {
   "cell_type": "code",
   "execution_count": 2,
   "metadata": {},
   "outputs": [],
   "source": [
    "system = PySpin.System.GetInstance()\n",
    "camera_list = system.GetCameras()\n",
    "num_cam = camera_list.GetSize()\n",
    "num_cam\n",
    "cam = camera_list.GetByIndex(0)\n",
    "cam.Init()\n",
    "cam.TLStream.StreamBufferHandlingMode.SetValue(\n",
    "PySpin.StreamBufferHandlingMode_NewestOnly\n",
    ")\n",
    "\n",
    "if not cam.IsStreaming():\n",
    "    cam.BeginAcquisition()"
   ]
  },
  {
   "cell_type": "markdown",
   "metadata": {},
   "source": [
    "### Get Image\n",
    "O bloco abaixo utiliza da câmera acima para capturar uma imagem, a imagem fica armazenada em image_array"
   ]
  },
  {
   "cell_type": "code",
   "execution_count": 227,
   "metadata": {},
   "outputs": [
    {
     "ename": "NameError",
     "evalue": "name 'cam' is not defined",
     "output_type": "error",
     "traceback": [
      "\u001b[1;31m---------------------------------------------------------------------------\u001b[0m",
      "\u001b[1;31mNameError\u001b[0m                                 Traceback (most recent call last)",
      "\u001b[1;32m~\\AppData\\Local\\Temp\\ipykernel_15660\\4209534865.py\u001b[0m in \u001b[0;36m<module>\u001b[1;34m\u001b[0m\n\u001b[0;32m      2\u001b[0m \u001b[0mstreamID\u001b[0m\u001b[1;33m:\u001b[0m \u001b[0mint\u001b[0m \u001b[1;33m=\u001b[0m \u001b[1;36m0\u001b[0m\u001b[1;33m\u001b[0m\u001b[1;33m\u001b[0m\u001b[0m\n\u001b[0;32m      3\u001b[0m \u001b[1;33m\u001b[0m\u001b[0m\n\u001b[1;32m----> 4\u001b[1;33m \u001b[0mpyspin_image\u001b[0m \u001b[1;33m=\u001b[0m \u001b[0mcam\u001b[0m\u001b[1;33m.\u001b[0m\u001b[0mGetNextImage\u001b[0m\u001b[1;33m(\u001b[0m\u001b[0mgrabTimeout\u001b[0m\u001b[1;33m,\u001b[0m \u001b[0mstreamID\u001b[0m\u001b[1;33m)\u001b[0m\u001b[1;33m\u001b[0m\u001b[1;33m\u001b[0m\u001b[0m\n\u001b[0m\u001b[0;32m      5\u001b[0m \u001b[0mimage_array\u001b[0m \u001b[1;33m=\u001b[0m \u001b[0mpyspin_image\u001b[0m\u001b[1;33m.\u001b[0m\u001b[0mGetNDArray\u001b[0m\u001b[1;33m(\u001b[0m\u001b[1;33m)\u001b[0m\u001b[1;33m\u001b[0m\u001b[1;33m\u001b[0m\u001b[0m\n",
      "\u001b[1;31mNameError\u001b[0m: name 'cam' is not defined"
     ]
    }
   ],
   "source": [
    "grabTimeout: int = PySpin.EVENT_TIMEOUT_INFINITE\n",
    "streamID: int = 0\n",
    "\n",
    "pyspin_image = cam.GetNextImage(grabTimeout, streamID)\n",
    "image_array = pyspin_image.GetNDArray()"
   ]
  },
  {
   "cell_type": "markdown",
   "metadata": {},
   "source": [
    "Para testes com as imagens na pasta \"../images\""
   ]
  },
  {
   "cell_type": "code",
   "execution_count": 228,
   "metadata": {},
   "outputs": [],
   "source": [
    "#image_array = cv2.imread(\"../images/img0.jpeg\")"
   ]
  },
  {
   "cell_type": "markdown",
   "metadata": {},
   "source": [
    "### Convert to HSV\n",
    "Para realizar a segmentação utilizamos de um threshold na escala HSV, portanto precisamos converter a imagem para esta escala"
   ]
  },
  {
   "cell_type": "code",
   "execution_count": 292,
   "metadata": {},
   "outputs": [],
   "source": [
    "img = cv2.cvtColor(image_array, cv2.COLOR_RGB2HSV)"
   ]
  },
  {
   "cell_type": "markdown",
   "metadata": {},
   "source": [
    "### Crop\n",
    "Parte da imagem (fora da mesa) pode ser cortada para facilitar a segmentação"
   ]
  },
  {
   "cell_type": "code",
   "execution_count": 293,
   "metadata": {},
   "outputs": [],
   "source": [
    "img = img[170:1150,275:1100]"
   ]
  },
  {
   "cell_type": "markdown",
   "metadata": {},
   "source": [
    "### Threshold\n",
    "Realizamos dois threshold, um para separar o braço robótico e outro para separar a bola. Nos dois utilizamos da hue como critério. Primeiro separamos o braço e guardamos em img1, depois separamos a bola e guardamos em img2, para posteriormente juntar as imagens em img"
   ]
  },
  {
   "cell_type": "code",
   "execution_count": 294,
   "metadata": {},
   "outputs": [],
   "source": [
    "min_hue = 0\n",
    "min_sat = 0\n",
    "min_val = 0\n",
    "\n",
    "max_hue = 10\n",
    "max_sat = 255\n",
    "max_val = 255\n",
    "\n",
    "\n",
    "img1 = cv2.inRange(img, (min_hue, min_sat, min_val), (max_hue, max_sat, max_val))"
   ]
  },
  {
   "cell_type": "code",
   "execution_count": 295,
   "metadata": {},
   "outputs": [],
   "source": [
    "copy = np.ndarray((img1.shape[0], img1.shape[1], 3))\n",
    "for i in range (img1.shape[0]):\n",
    "    for j in range(img1.shape[1]):\n",
    "        if img1[i][j] != 0:\n",
    "            copy[i][j] = [255,255,255]\n",
    "        else:\n",
    "            copy[i][j] = [0,0,0]\n",
    "\n",
    "img1 = copy"
   ]
  },
  {
   "cell_type": "code",
   "execution_count": 296,
   "metadata": {},
   "outputs": [],
   "source": [
    "min_hue = 110\n",
    "min_sat = 0\n",
    "min_val = 0\n",
    "\n",
    "max_hue = 120\n",
    "max_sat = 255\n",
    "max_val = 255\n",
    "\n",
    "\n",
    "img2 = cv2.inRange(img, (min_hue, min_sat, min_val), (max_hue, max_sat, max_val))"
   ]
  },
  {
   "cell_type": "code",
   "execution_count": 297,
   "metadata": {},
   "outputs": [],
   "source": [
    "copy = np.ndarray((img2.shape[0], img2.shape[1], 3))\n",
    "\n",
    "for i in range (img2.shape[0]):\n",
    "    for j in range(img2.shape[1]):\n",
    "        if img2[i][j] != 0:\n",
    "            copy[i][j] = [0,0,255]\n",
    "        else:\n",
    "            copy[i][j] = [0,0,0]\n",
    "\n",
    "img2 = copy"
   ]
  },
  {
   "cell_type": "code",
   "execution_count": 298,
   "metadata": {},
   "outputs": [],
   "source": [
    "img = img1 + img2"
   ]
  },
  {
   "cell_type": "markdown",
   "metadata": {},
   "source": [
    "### Resize\n",
    "No bloco abaixo ocorre do downscale da imagem, em que reduzimos a resolução para igualar a resolução esperada pelo modelo treinado. TODO checar qual é a resolução certa"
   ]
  },
  {
   "cell_type": "code",
   "execution_count": 299,
   "metadata": {},
   "outputs": [],
   "source": [
    "scale = (16,16)\n",
    "img = cv2.resize(img, scale)"
   ]
  },
  {
   "cell_type": "markdown",
   "metadata": {},
   "source": [
    "### Visualize\n",
    "O bloco abaixo cria uma janela para visualizar a imagem img"
   ]
  },
  {
   "cell_type": "code",
   "execution_count": 1,
   "metadata": {},
   "outputs": [
    {
     "ename": "NameError",
     "evalue": "name 'cv2' is not defined",
     "output_type": "error",
     "traceback": [
      "\u001b[1;31m---------------------------------------------------------------------------\u001b[0m",
      "\u001b[1;31mNameError\u001b[0m                                 Traceback (most recent call last)",
      "\u001b[1;32m~\\AppData\\Local\\Temp\\ipykernel_5296\\2888836620.py\u001b[0m in \u001b[0;36m<module>\u001b[1;34m\u001b[0m\n\u001b[1;32m----> 1\u001b[1;33m \u001b[0mcv2\u001b[0m\u001b[1;33m.\u001b[0m\u001b[0mnamedWindow\u001b[0m\u001b[1;33m(\u001b[0m\u001b[1;34m'image'\u001b[0m\u001b[1;33m,\u001b[0m \u001b[0mcv2\u001b[0m\u001b[1;33m.\u001b[0m\u001b[0mWINDOW_NORMAL\u001b[0m\u001b[1;33m)\u001b[0m\u001b[1;33m\u001b[0m\u001b[1;33m\u001b[0m\u001b[0m\n\u001b[0m\u001b[0;32m      2\u001b[0m \u001b[0mcv2\u001b[0m\u001b[1;33m.\u001b[0m\u001b[0mimshow\u001b[0m\u001b[1;33m(\u001b[0m\u001b[1;34m'image'\u001b[0m\u001b[1;33m,\u001b[0m \u001b[0mimg\u001b[0m\u001b[1;33m)\u001b[0m\u001b[1;33m\u001b[0m\u001b[1;33m\u001b[0m\u001b[0m\n\u001b[0;32m      3\u001b[0m \u001b[0mcv2\u001b[0m\u001b[1;33m.\u001b[0m\u001b[0mwaitKey\u001b[0m\u001b[1;33m(\u001b[0m\u001b[1;36m0\u001b[0m\u001b[1;33m)\u001b[0m\u001b[1;33m\u001b[0m\u001b[1;33m\u001b[0m\u001b[0m\n",
      "\u001b[1;31mNameError\u001b[0m: name 'cv2' is not defined"
     ]
    }
   ],
   "source": [
    "cv2.namedWindow('image', cv2.WINDOW_NORMAL)\n",
    "cv2.imshow('image', img)\n",
    "cv2.waitKey(0)"
   ]
  }
 ],
 "metadata": {
  "kernelspec": {
   "display_name": "Python 3",
   "language": "python",
   "name": "python3"
  },
  "language_info": {
   "codemirror_mode": {
    "name": "ipython",
    "version": 3
   },
   "file_extension": ".py",
   "mimetype": "text/x-python",
   "name": "python",
   "nbconvert_exporter": "python",
   "pygments_lexer": "ipython3",
   "version": "3.7.9"
  }
 },
 "nbformat": 4,
 "nbformat_minor": 2
}
